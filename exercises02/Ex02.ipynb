{
 "cells": [
  {
   "cell_type": "markdown",
   "metadata": {},
   "source": [
    "## Ex1\n",
    "\n",
    "a) X, X, X...; left, left, left,...; ,0, 0, 0,...\n",
    "\n",
    "b) X, X, X, X, Y, end;  right, right, right, right, right; +1, +1 , +1, -1, +4 \n",
    "\n",
    "c) $G_0 = 1.875$\n",
    "\n",
    "d) 4\n"
   ]
  },
  {
   "cell_type": "code",
   "execution_count": 3,
   "metadata": {},
   "outputs": [
    {
     "data": {
      "text/plain": [
       "1.875"
      ]
     },
     "execution_count": 3,
     "metadata": {},
     "output_type": "execute_result"
    }
   ],
   "source": [
    "rewards = [1,1,1,-1,4]\n",
    "g = sum([0.5**k*rewards[k] for k in range(len(rewards))])\n",
    "g"
   ]
  },
  {
   "cell_type": "markdown",
   "metadata": {},
   "source": [
    "## Ex2\n",
    "\n",
    "b) No matter how long it takes, without a discount the total reward will always be 1. So there is no incentive for the agent to find the exit in finite time. Either implement a discount or negative rewards for every step taken.\n",
    "\n",
    "c)\n",
    "\n",
    "$G_5 = 0$\n",
    "\n",
    "$G_4 = R_5 = 2$\n",
    "\n",
    "$G_3 = 0.5 \\cdot G_4 + R_4 = 4$\n",
    "\n",
    "$G_2 = 0.5 \\cdot G_3 + R_3 = 8$\n",
    "\n",
    "$G_1 = 0.5 \\cdot G_2 + R_2 = 6$\n",
    "\n",
    "$G_0 = 0.5 \\cdot G_1 + R_1 = 2$"
   ]
  }
 ],
 "metadata": {
  "kernelspec": {
   "display_name": "Python [conda env:uni]",
   "language": "python",
   "name": "conda-env-uni-py"
  },
  "language_info": {
   "codemirror_mode": {
    "name": "ipython",
    "version": 3
   },
   "file_extension": ".py",
   "mimetype": "text/x-python",
   "name": "python",
   "nbconvert_exporter": "python",
   "pygments_lexer": "ipython3",
   "version": "3.7.6"
  }
 },
 "nbformat": 4,
 "nbformat_minor": 4
}
