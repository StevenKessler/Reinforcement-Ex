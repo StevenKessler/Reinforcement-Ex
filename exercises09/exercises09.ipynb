{
 "cells": [
  {
   "cell_type": "markdown",
   "metadata": {},
   "source": [
    "***\n",
    "<p style=\"text-align:left;\">Reinforcement Learning\n",
    "<span style=\"float:right;\">Monday, 22. June 2020</span></p>\n",
    "\n",
    "<p style=\"text-align:left;\">Prof. S. Harmeling\n",
    "<span style=\"float:right;\">DUE 23:55 Monday, 29. June 2020</span></p>\n",
    "\n",
    "---\n",
    "<p style=\"text-align:center;\"><b>Exercise set #9</b></p>\n",
    "\n",
    "---"
   ]
  },
  {
   "cell_type": "markdown",
   "metadata": {},
   "source": [
    "# REINFORCE\n",
    "\n",
    "In this exercise you will implement **REINFORCE** with linear policy approximation.  "
   ]
  },
  {
   "cell_type": "code",
   "execution_count": 1,
   "metadata": {},
   "outputs": [],
   "source": [
    "import gym\n",
    "import numpy as np\n",
    "import matplotlib.pyplot as plt\n",
    "from ipywidgets import IntProgress"
   ]
  },
  {
   "cell_type": "markdown",
   "metadata": {},
   "source": [
    "## 2. Small-corridor gridworld\n",
    "\n",
    "Consider the small-corridor gridworld. The reward is -1 per step. In each of the three non-terminal states there are only two actions, right and left. These actions have their usual consequences in the first and third states (left causes no movement in the first state), but in the second state they are reversed, so that right moves to the left and left moves to the right. \n",
    "\n",
    "Implement the environment described above:"
   ]
  },
  {
   "cell_type": "code",
   "execution_count": 2,
   "metadata": {},
   "outputs": [],
   "source": [
    "class SmallCorridorEnv(gym.Env):\n",
    "    \n",
    "    def __init__(self):\n",
    "        super().__init__()\n",
    "        self.observation_space = gym.spaces.Discrete(4)\n",
    "        self.action_space = gym.spaces.Discrete(2)\n",
    "        self.s = 0\n",
    "    \n",
    "    def reset(self):\n",
    "        self.s = 0\n",
    "        return self.s\n",
    "    \n",
    "    def step(self, action):\n",
    "        \"\"\"action: 0 is left, 1 is right\"\"\"\n",
    "        #########################\n",
    "        # Write your code here. #\n",
    "        #########################\n",
    "        done = False\n",
    "        self.s_ = self.s\n",
    "        if self.s == 0 or self.s == 2:\n",
    "            if action == 1:\n",
    "                self.s_ = self.s + 1\n",
    "            elif self.s == 2:\n",
    "                self.s_ = 1\n",
    "                \n",
    "        if self.s == 1:\n",
    "            if action == 1:\n",
    "                self.s_ = 0\n",
    "            else:\n",
    "                self.s_ = 2\n",
    "        \n",
    "        r = - 1\n",
    "        self.s = self.s_\n",
    "        if self.s == 3:\n",
    "            done = True\n",
    "        info = {}\n",
    "        \n",
    "        return self.s, r, done, info\n",
    "    \n",
    "    def render(self):\n",
    "        output = ['-'] * 4\n",
    "        output[self.s] = '*'\n",
    "        print(''.join(output))"
   ]
  },
  {
   "cell_type": "markdown",
   "metadata": {},
   "source": [
    "Sanity-check for environment: randomly select actions and render environment"
   ]
  },
  {
   "cell_type": "code",
   "execution_count": 3,
   "metadata": {
    "scrolled": true
   },
   "outputs": [
    {
     "name": "stdout",
     "output_type": "stream",
     "text": [
      "*---\n",
      "Action 0\n",
      "*---\n",
      "Action 1\n",
      "-*--\n",
      "Action 1\n",
      "*---\n",
      "Action 0\n",
      "*---\n",
      "Action 1\n",
      "-*--\n",
      "Action 1\n",
      "*---\n",
      "Action 1\n",
      "-*--\n",
      "Action 1\n",
      "*---\n",
      "Action 0\n",
      "*---\n",
      "Action 0\n",
      "*---\n",
      "Action 1\n",
      "-*--\n",
      "Action 1\n",
      "*---\n",
      "Action 1\n",
      "-*--\n",
      "Action 1\n",
      "*---\n",
      "Action 1\n",
      "-*--\n",
      "Action 0\n",
      "--*-\n",
      "Action 1\n",
      "---*\n"
     ]
    }
   ],
   "source": [
    "env = SmallCorridorEnv()\n",
    "env.reset()\n",
    "env.render()\n",
    "done = False\n",
    "while not done:\n",
    "    a = env.action_space.sample()\n",
    "    print('Action', a)\n",
    "    _, r, done, _ = env.step(a)\n",
    "    env.render() "
   ]
  },
  {
   "cell_type": "markdown",
   "metadata": {},
   "source": [
    "## 3. REINFORCE with linear policy approximation \n",
    "\n",
    "We have not covered the algorithm in the lecture yet, so first make yourself familiar with chapter 13.3  \n",
    "from [Reinforcement Learning: An Introduction](http://incompleteideas.net/book/the-book-2nd.html) by Sutton and Barto, p. 326ff.\n",
    "\n",
    "Our problem is difficult because all states appear identical under the function approximation:  \n",
    "In particular, we define $x(s, \\text{right}) = [1, 0]^T$ and $x(s, \\text{left}) = [0, 1]^T$, for all s.  \n",
    "As a function approximator we use soft-max in action preferences\n",
    "\n",
    "$$\\pi(a|\\theta) = \\dfrac{\\exp\\theta^T x(a)}{\\sum_b \\exp\\theta^T x(b)}, \\text{ where } h(a,\\theta)=\\theta^T x(a).$$\n",
    "\n",
    "We initialize $\\theta$ with samples from a normal distribution $\\mathcal{N}(0,1)$.  \n",
    "The algorithm is described in Sutton and Barto as follows:\n",
    "\n",
    "![REINFORCE](https://i.stack.imgur.com/Acbup.png)"
   ]
  },
  {
   "cell_type": "markdown",
   "metadata": {},
   "source": [
    "Implement the missing parts of the REINFORCE algorithm:"
   ]
  },
  {
   "cell_type": "code",
   "execution_count": 49,
   "metadata": {},
   "outputs": [],
   "source": [
    "class REINFORCE:\n",
    "    \n",
    "    def __init__(self):\n",
    "        self.x = np.eye(2)  # action state embedding\n",
    "        self.theta = np.random.randn(2)  # parameter vector\n",
    "    \n",
    "    def policy_fun(self, a):\n",
    "        \"\"\"Implements soft-max in action preferences\"\"\"\n",
    "        x_a = np.array([1,0]) if a == 1 else np.array([0,1])\n",
    "        x_b = np.flip(x_a)\n",
    "        #########################\n",
    "        pi = np.exp(self.theta @ x_a)/(np.exp(self.theta @ x_b) + np.exp(self.theta @ x_a))\n",
    "        return pi\n",
    "        #########################\n",
    "    \n",
    "    def ln_policy_grad(self, a):\n",
    "        \"\"\"Equation (13.9) from Sutton and Barto\"\"\"\n",
    "        #########################\n",
    "        x_a = np.array([1,0]) if a == 1 else np.array([0,1])\n",
    "        x_b = np.flip(x_a)\n",
    "        b = a == False\n",
    "        grad = x_a - (self.policy_fun(b) * x_b + self.policy_fun(a) * x_a)\n",
    "        return grad\n",
    "        #########################\n",
    "    \n",
    "    def sample_action(self):\n",
    "        \"\"\"Sample action according to the learned policy\"\"\"\n",
    "        if np.random.uniform() < self.policy_fun(0):\n",
    "            return 0\n",
    "        return 1\n",
    "    \n",
    "    def rollout(self, env):\n",
    "        \"\"\"Sample an episode from the environment starting at initial state\"\"\"\n",
    "        done = False\n",
    "        s = env.reset()\n",
    "        r_old = None\n",
    "        sar = []\n",
    "        # sar contains tuples (s_t, a_t, r_t) with the indices like in the REINFORCE algorithm\n",
    "        # from Sutton and Barto in the picture above. Therefore the rewards start in the second\n",
    "        # tuple and r_0 is None.\n",
    "        while not done:\n",
    "            a = self.sample_action()\n",
    "            s_new, r, done, _ = env.step(a)\n",
    "            sar.append((s, a, r_old))\n",
    "            s, r_old = s_new, r\n",
    "        return sar\n",
    "    \n",
    "    def train(self, env, steps=1000, alpha=2**(-13), gamma=0.9):\n",
    "        \"\"\"REINFORCE: Monte-Carlo Policy-Gradient Control (episodic)\"\"\"\n",
    "        reward_hist = [] # sum of rewards for each episode\n",
    "        for i in range(steps):\n",
    "            sar = self.rollout(env)\n",
    "            rewards = [r for s, a, r in sar]\n",
    "            \n",
    "            for t in range(len(sar)):\n",
    "                #########################\n",
    "                G = np.sum([gamma**(k-t-1)*rewards[k] for k in range(t+1, len(sar))])\n",
    "                self.theta += alpha*(gamma**t)*G*self.ln_policy_grad(sar[t][1])\n",
    "                #########################\n",
    "            reward_hist.append(sum(rewards[1:]))\n",
    "        return reward_hist"
   ]
  },
  {
   "cell_type": "markdown",
   "metadata": {},
   "source": [
    "### Run the experiment\n",
    "\n",
    "The following code tests the REINFORCE algorithm on the small-corridor gridworld.  \n",
    "It computes the sum of the returns for each rollout averaged over 100 runs.\n",
    "The following parameters will be used:\n",
    "- step size $\\alpha=2^{-13}$, $\\gamma=1$, and steps=1000\n",
    "\n",
    "If you have done everything correctly, the plot should look roughly similar to the red plot in figure 13.1 from Sutton and Barto, p. 328."
   ]
  },
  {
   "cell_type": "code",
   "execution_count": 50,
   "metadata": {
    "scrolled": true
   },
   "outputs": [
    {
     "data": {
      "application/vnd.jupyter.widget-view+json": {
       "model_id": "d790f580776a40c88b3bcbfc2796a20a",
       "version_major": 2,
       "version_minor": 0
      },
      "text/plain": [
       "IntProgress(value=0)"
      ]
     },
     "metadata": {},
     "output_type": "display_data"
    },
    {
     "data": {
      "image/png": "[encoded data removed]",
      "text/plain": [
       "<Figure size 432x288 with 1 Axes>"
      ]
     },
     "metadata": {
      "needs_background": "light"
     },
     "output_type": "display_data"
    }
   ],
   "source": [
    "reward_hists = []\n",
    "right_prob = []\n",
    "runs = 100\n",
    "progress = IntProgress(min=0, max=runs)\n",
    "display(progress)\n",
    "\n",
    "for i in range(runs):\n",
    "    env = SmallCorridorEnv()\n",
    "    agent = REINFORCE()\n",
    "    reward_hist = agent.train(env, steps=1000, alpha=2**(-13), gamma=1)\n",
    "    reward_hists.append(reward_hist)\n",
    "    right_prob.append(agent.policy_fun(1))\n",
    "    progress.value += 1\n",
    "\n",
    "progress.bar_style = 'success'\n",
    "\n",
    "plt.plot(np.array(reward_hists).mean(axis=0))\n",
    "plt.plot([0, 1000], [-11.6, -11.6], c='r');"
   ]
  },
  {
   "cell_type": "code",
   "execution_count": 51,
   "metadata": {},
   "outputs": [
    {
     "data": {
      "image/png": "[encoded data removed]",
      "text/plain": [
       "<Figure size 432x288 with 1 Axes>"
      ]
     },
     "metadata": {
      "needs_background": "light"
     },
     "output_type": "display_data"
    }
   ],
   "source": [
    "plt.hist(right_prob, bins=40, range=(0,1))\n",
    "plt.axvline(0.59, c='r');"
   ]
  },
  {
   "cell_type": "markdown",
   "metadata": {},
   "source": [
    "The best probability is about 0.59, which achieves a value of about -11.6."
   ]
  },
  {
   "cell_type": "code",
   "execution_count": 52,
   "metadata": {},
   "outputs": [
    {
     "data": {
      "text/plain": [
       "0.5601639143588149"
      ]
     },
     "execution_count": 52,
     "metadata": {},
     "output_type": "execute_result"
    }
   ],
   "source": [
    "np.mean(right_prob)"
   ]
  }
 ],
 "metadata": {
  "kernelspec": {
   "display_name": "Python [conda env:uni]",
   "language": "python",
   "name": "conda-env-uni-py"
  },
  "language_info": {
   "codemirror_mode": {
    "name": "ipython",
    "version": 3
   },
   "file_extension": ".py",
   "mimetype": "text/x-python",
   "name": "python",
   "nbconvert_exporter": "python",
   "pygments_lexer": "ipython3",
   "version": "3.7.6"
  }
 },
 "nbformat": 4,
 "nbformat_minor": 4
}
